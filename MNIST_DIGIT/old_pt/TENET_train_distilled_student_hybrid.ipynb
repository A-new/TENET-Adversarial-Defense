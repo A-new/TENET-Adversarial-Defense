{
  "nbformat": 4,
  "nbformat_minor": 0,
  "metadata": {
    "colab": {
      "name": "TENET_train_distilled_student_hybrid.ipynb",
      "provenance": [],
      "collapsed_sections": []
    },
    "kernelspec": {
      "name": "python3",
      "display_name": "Python 3"
    },
    "accelerator": "GPU"
  },
  "cells": [
    {
      "cell_type": "code",
      "metadata": {
        "colab": {
          "base_uri": "https://localhost:8080/"
        },
        "id": "1ptWqA6S4-j7",
        "outputId": "2c81fb4d-48e0-430b-dc1c-0ed8a5a43338"
      },
      "source": [
        "from google.colab import drive\n",
        "drive.mount('/content/gdrive')"
      ],
      "execution_count": 1,
      "outputs": [
        {
          "output_type": "stream",
          "text": [
            "Mounted at /content/gdrive\n"
          ],
          "name": "stdout"
        }
      ]
    },
    {
      "cell_type": "code",
      "metadata": {
        "colab": {
          "base_uri": "https://localhost:8080/"
        },
        "id": "VZUd68EO5CpA",
        "outputId": "3a802f6c-b64b-4fe4-fc26-6ecb1eef3cc6"
      },
      "source": [
        "!ls \"/content/gdrive/MyDrive/\""
      ],
      "execution_count": 2,
      "outputs": [
        {
          "output_type": "stream",
          "text": [
            " 20141002_230329.jpg\n",
            " 2015-06-03_14.58.12.jpg\n",
            " 20150611_202440.jpg\n",
            " 20150611_202634.jpg\n",
            " 20150611_202642.jpg\n",
            " 20150611_202720.jpg\n",
            " 2693374644-Agustos2014.pdf\n",
            " 4445.gdoc\n",
            " 4445.pdf\n",
            "'Adsız (10).gdoc'\n",
            "'Adsız (11).gdoc'\n",
            "'Adsız (12).gdoc'\n",
            "'Adsız (13).gdoc'\n",
            "'Adsız (14).gdoc'\n",
            "'Adsız (15).gdoc'\n",
            "'Adsız (16).gdoc'\n",
            "'Adsız (17).gdoc'\n",
            "'Adsız (18).gdoc'\n",
            "'Adsız (19).gdoc'\n",
            "'Adsız (1).gdoc'\n",
            "'Adsız (20).gdoc'\n",
            "'Adsız (21).gdoc'\n",
            "'Adsız (22).gdoc'\n",
            "'Adsız (23).gdoc'\n",
            "'Adsız (24).gdoc'\n",
            "'Adsız (25).gdoc'\n",
            "'Adsız (26).gdoc'\n",
            "'Adsız (27).gdoc'\n",
            "'Adsız (28).gdoc'\n",
            "'Adsız (29).gdoc'\n",
            "'Adsız (2).gdoc'\n",
            "'Adsız (30).gdoc'\n",
            "'Adsız (31).gdoc'\n",
            "'Adsız (3).gdoc'\n",
            "'Adsız (4).gdoc'\n",
            "'Adsız (5).gdoc'\n",
            "'Adsız (6).gdoc'\n",
            "'Adsız (7).gdoc'\n",
            "'Adsız (8).gdoc'\n",
            "'Adsız (9).gdoc'\n",
            " Adsız.gdoc\n",
            " Adversarial_Detection\n",
            " AI_Security_Papers\n",
            " Archive.zip\n",
            " Backup-codes-omerfaruktuna.gdoc\n",
            " checkpointCIFAR10\n",
            " checkpointDigitMNIST\n",
            " checkpointFashionMNIST\n",
            "'Colab Notebooks'\n",
            "'cse596_project_paper_v3 (1).pdf'\n",
            " cse596_project_paper_v3.pdf\n",
            " DefneSol_Etkinlik_Yonetimi.pdf\n",
            " deneme.txt\n",
            " Fotolar\n",
            " FREEZE_NewStudy_Attack_Paper_Fresh_CIFAR10\n",
            " FREEZE_NewStudy_Attack_Paper_Fresh_Digit_MNIST\n",
            " FREEZE_NewStudy_Attack_Paper_Fresh_Fashion_MNIST\n",
            " FREEZE_Yeni_KL_KDE\n",
            " FREEZE_Yeni_KL_KDE_Fashion\n",
            " Genel\n",
            " IMG_0443.JPG\n",
            " IMG_0444.JPG\n",
            " IMG_0587.jpg\n",
            " IMG_20150611_145615.jpg\n",
            " IMG_20150611_195908.jpg\n",
            " IMG_20150611_213351.jpg\n",
            " IMG_20150612_200930.jpg\n",
            " IMG_20201002_174706.jpg\n",
            " kira_sozlesmesi.pdf\n",
            " lab_week_9.pptx\n",
            " LeNet_dropout10.pth.tar\n",
            " Mail\n",
            " model_cnn_cifar_new.pt\n",
            " model_cnn_student.pt\n",
            "'model_cnn_T_20_epistemic_mean _50.pt'\n",
            " model_cnn_T_20_epistemic_mean_and_aleatoric_for_pred.pt\n",
            " model_cnn_T_20_epistemic_mean_and_epistemic_for_pred.pt\n",
            " model_cnn_T_20_epistemic_mean_and_variance_for_pred.pt\n",
            " model_cnn_T_20_epistemic_mean_and_variance.pt\n",
            " model_cnn_T_20_epistemic_mean.pt\n",
            " model_cnn_T_20_loss_minus_epistemic_unc.pt\n",
            " model_cnn_T_20_loss_plus_aleatoric_unc.pt\n",
            " model_cnn_teacher_T_1.pt\n",
            " model_cnn_teacher_T_20_loss_ep_unc.pt\n",
            " NewStudy_Aleatoric\n",
            " NewStudy_Attack_Paper_Fresh_CIFAR10\n",
            " NewStudy_Attack_Paper_Fresh_Digit_MNIST\n",
            " NewStudy_Attack_Paper_Fresh_Fashion_MNIST\n",
            " Phd_Thesis_First_Review\n",
            " Phd_Thesis_Subject.pptx\n",
            "'solution (1).gdoc'\n",
            "'solution (2).gdoc'\n",
            " solution.gdoc\n",
            " Startup-2.pptx\n",
            " Takeout\n",
            " TENET_DIGIT_MNIST_model_cnn_normal.pt\n",
            " TENET_DIGIT_MNIST_model_cnn_student_T_20.pt\n",
            " TENET_DIGIT_MNIST_model_cnn_teacher_T_20.pt\n",
            " vgg_lastt.pt\n",
            " Whisper_Salesforce.pdf\n",
            " ZgwVyFg2eiXPrJ4pd1NH_w.pkpass\n"
          ],
          "name": "stdout"
        }
      ]
    },
    {
      "cell_type": "code",
      "metadata": {
        "id": "QU23LpARaS0E"
      },
      "source": [
        "import torch\n",
        "from torch.utils.data import DataLoader\n",
        "import torch.utils.data as Data\n",
        "from torchvision import datasets, transforms\n",
        "import numpy as np\n",
        "import os\n",
        "from torch.autograd import Variable\n",
        "import torch.nn as nn\n",
        "import torch.nn.functional as F\n",
        "import torch.optim as optim"
      ],
      "execution_count": 3,
      "outputs": []
    },
    {
      "cell_type": "code",
      "metadata": {
        "id": "A2g6xweNaX7i"
      },
      "source": [
        "device = torch.device(\"cuda:0\" if torch.cuda.is_available() else \"cpu\")\n"
      ],
      "execution_count": 4,
      "outputs": []
    },
    {
      "cell_type": "code",
      "metadata": {
        "id": "5b6wuUtxaZf0"
      },
      "source": [
        "import torch\n",
        "import torch.nn as nn\n",
        "import torch.optim as optim\n",
        "from torchvision import datasets, transforms\n",
        "from torch.utils.data import DataLoader\n",
        "import torch.nn.functional as F\n",
        "import numpy as np\n",
        "\n",
        "class Model_Drop(nn.Module):\n",
        "    def __init__(self):\n",
        "\n",
        "        super(Model_Drop, self).__init__()\n",
        "\n",
        "        self.conv1 = nn.Conv2d(1, 32, kernel_size=3,padding=1)\n",
        "        self.conv2 = nn.Conv2d(32, 32, kernel_size=3,padding=1)\n",
        "        self.conv3 = nn.Conv2d(32, 64, kernel_size=3,padding=1)\n",
        "        self.conv4 = nn.Conv2d(64, 64, kernel_size=3,padding=1)\n",
        "        self.fc1 = nn.Linear(7*7*64, 200)\n",
        "        self.fc2 = nn.Linear(200, 200)\n",
        "        self.fc3 = nn.Linear(200, 10)\n",
        "        self.drop_layer = nn.Dropout(p=0.50)\n",
        "\n",
        "    def last_hidden_layer_output(self, x):\n",
        "        x = F.relu(self.conv1(x))\n",
        "        x = F.max_pool2d(F.relu(self.conv2(x)), 2)\n",
        "        x = F.relu(self.conv3(x))\n",
        "        x = F.max_pool2d(F.relu(self.conv4(x)), 2)\n",
        "        x = x.view(-1, 7*7*64)\n",
        "        x = self.drop_layer((F.relu(self.fc1(x))))\n",
        "        x = self.drop_layer((F.relu(self.fc2(x))))\n",
        "        return x\n",
        "\n",
        "    def forward(self, x):\n",
        "        x = self.last_hidden_layer_output(x)\n",
        "        x = self.fc3(x)\n",
        "        return x\n"
      ],
      "execution_count": 5,
      "outputs": []
    },
    {
      "cell_type": "code",
      "metadata": {
        "colab": {
          "base_uri": "https://localhost:8080/"
        },
        "id": "oik7898Vab1h",
        "outputId": "deb56a33-36c6-4e76-a3dd-3f24a3b34d46"
      },
      "source": [
        "!git clone https://github.com/knamdar/data.git"
      ],
      "execution_count": 6,
      "outputs": [
        {
          "output_type": "stream",
          "text": [
            "Cloning into 'data'...\n",
            "remote: Enumerating objects: 16, done.\u001b[K\n",
            "remote: Counting objects: 100% (16/16), done.\u001b[K\n",
            "remote: Compressing objects: 100% (14/14), done.\u001b[K\n",
            "remote: Total 16 (delta 2), reused 16 (delta 2), pack-reused 0\u001b[K\n",
            "Unpacking objects: 100% (16/16), done.\n"
          ],
          "name": "stdout"
        }
      ]
    },
    {
      "cell_type": "code",
      "metadata": {
        "id": "qmGGXVaSaeM9"
      },
      "source": [
        "correct_ratio = []\n",
        "alpha = 0.05\n",
        "beta = 1 - alpha"
      ],
      "execution_count": 7,
      "outputs": []
    },
    {
      "cell_type": "code",
      "metadata": {
        "id": "Qjj6jvAOagcJ"
      },
      "source": [
        "mnist_train = datasets.MNIST(\"data\", train=True, download=True, transform=transforms.ToTensor())\n",
        "mnist_test = datasets.MNIST(\"data\", train=False, download=True, transform=transforms.ToTensor())\n",
        "\n",
        "trainload = DataLoader(mnist_train, batch_size=100, shuffle=True)\n",
        "testload = DataLoader(mnist_test, batch_size=100, shuffle=False)\n"
      ],
      "execution_count": 8,
      "outputs": []
    },
    {
      "cell_type": "code",
      "metadata": {
        "colab": {
          "base_uri": "https://localhost:8080/"
        },
        "id": "wI0hpzXNalM9",
        "outputId": "734e4178-f384-46ab-cc72-6d6945af33cd"
      },
      "source": [
        "teach_model = Model_Drop()\n",
        "teach_model.to(device)\n",
        "teach_model.load_state_dict(torch.load(\"/content/gdrive/MyDrive/TENET_DIGIT_MNIST_model_cnn_teacher_T_20.pt\"))\n",
        "teach_model.eval()"
      ],
      "execution_count": 9,
      "outputs": [
        {
          "output_type": "execute_result",
          "data": {
            "text/plain": [
              "Model_Drop(\n",
              "  (conv1): Conv2d(1, 32, kernel_size=(3, 3), stride=(1, 1), padding=(1, 1))\n",
              "  (conv2): Conv2d(32, 32, kernel_size=(3, 3), stride=(1, 1), padding=(1, 1))\n",
              "  (conv3): Conv2d(32, 64, kernel_size=(3, 3), stride=(1, 1), padding=(1, 1))\n",
              "  (conv4): Conv2d(64, 64, kernel_size=(3, 3), stride=(1, 1), padding=(1, 1))\n",
              "  (fc1): Linear(in_features=3136, out_features=200, bias=True)\n",
              "  (fc2): Linear(in_features=200, out_features=200, bias=True)\n",
              "  (fc3): Linear(in_features=200, out_features=10, bias=True)\n",
              "  (drop_layer): Dropout(p=0.5, inplace=False)\n",
              ")"
            ]
          },
          "metadata": {
            "tags": []
          },
          "execution_count": 9
        }
      ]
    },
    {
      "cell_type": "code",
      "metadata": {
        "colab": {
          "base_uri": "https://localhost:8080/"
        },
        "id": "pB644jOTanRA",
        "outputId": "bbcf3abb-c7f4-4983-df13-2b143e01c212"
      },
      "source": [
        "model = Model_Drop()\n",
        "model.to(device)"
      ],
      "execution_count": 10,
      "outputs": [
        {
          "output_type": "execute_result",
          "data": {
            "text/plain": [
              "Model_Drop(\n",
              "  (conv1): Conv2d(1, 32, kernel_size=(3, 3), stride=(1, 1), padding=(1, 1))\n",
              "  (conv2): Conv2d(32, 32, kernel_size=(3, 3), stride=(1, 1), padding=(1, 1))\n",
              "  (conv3): Conv2d(32, 64, kernel_size=(3, 3), stride=(1, 1), padding=(1, 1))\n",
              "  (conv4): Conv2d(64, 64, kernel_size=(3, 3), stride=(1, 1), padding=(1, 1))\n",
              "  (fc1): Linear(in_features=3136, out_features=200, bias=True)\n",
              "  (fc2): Linear(in_features=200, out_features=200, bias=True)\n",
              "  (fc3): Linear(in_features=200, out_features=10, bias=True)\n",
              "  (drop_layer): Dropout(p=0.5, inplace=False)\n",
              ")"
            ]
          },
          "metadata": {
            "tags": []
          },
          "execution_count": 10
        }
      ]
    },
    {
      "cell_type": "code",
      "metadata": {
        "id": "1s9_UDWOaoz_"
      },
      "source": [
        "criterion = nn.CrossEntropyLoss()\n",
        "#criterion2 = nn.KLDivLoss()\n",
        "\n",
        "optimizer = optim.Adam(model.parameters(), lr=0.001)\n",
        "#optimizer = optim.SGD(model.parameters(), lr=0.1, momentum=0.5)\n",
        "\n",
        "torch.manual_seed(2)\n",
        "torch.cuda.manual_seed(2)"
      ],
      "execution_count": 11,
      "outputs": []
    },
    {
      "cell_type": "code",
      "metadata": {
        "colab": {
          "base_uri": "https://localhost:8080/"
        },
        "id": "jDuQgIRmarAO",
        "outputId": "680b6d38-5bb2-4c65-eb8c-fc9721c57de3"
      },
      "source": [
        "model.train()\n",
        "T = 20\n",
        "\n",
        "def dist_loss(t, s, temp):\n",
        "    prob_t = F.softmax(t/temp, dim=1)\n",
        "    log_prob_s = F.log_softmax(s/temp, dim=1)\n",
        "    dist_loss = -(prob_t*log_prob_s).sum(dim=1).mean()\n",
        "    return dist_loss\n",
        "\n",
        "for epoch in range(30):\n",
        "\n",
        "    print(\"Current epoch is : \", epoch)\n",
        "\n",
        "    model.train()\n",
        "    loss_sigma = 0.0\n",
        "    correct = 0.0\n",
        "    total = 0.0\n",
        "    for i, data in enumerate(trainload):\n",
        "\n",
        "        inputs, labels = data\n",
        "        inputs = inputs.to(device)\n",
        "        labels = labels.to(device)\n",
        "\n",
        "        optimizer.zero_grad()\n",
        "\n",
        "        outputs = model(inputs.float())\n",
        "\n",
        "        teacher_outputs = teach_model(inputs.float())\n",
        "\n",
        "        loss1 = F.cross_entropy(outputs, labels)\n",
        "\n",
        "        #loss = dist_loss(teacher_outputs, outputs, T)\n",
        "\n",
        "        loss = alpha * loss1 + beta * dist_loss(teacher_outputs, outputs, T)\n",
        "\n",
        "        loss.backward()\n",
        "\n",
        "        optimizer.step()\n",
        "\n",
        "\n"
      ],
      "execution_count": 12,
      "outputs": [
        {
          "output_type": "stream",
          "text": [
            "Current epoch is :  0\n"
          ],
          "name": "stdout"
        },
        {
          "output_type": "stream",
          "text": [
            "/usr/local/lib/python3.7/dist-packages/torch/nn/functional.py:718: UserWarning: Named tensors and all their associated APIs are an experimental feature and subject to change. Please do not use them for anything important until they are released as stable. (Triggered internally at  /pytorch/c10/core/TensorImpl.h:1156.)\n",
            "  return torch.max_pool2d(input, kernel_size, stride, padding, dilation, ceil_mode)\n"
          ],
          "name": "stderr"
        },
        {
          "output_type": "stream",
          "text": [
            "Current epoch is :  1\n",
            "Current epoch is :  2\n",
            "Current epoch is :  3\n",
            "Current epoch is :  4\n",
            "Current epoch is :  5\n",
            "Current epoch is :  6\n",
            "Current epoch is :  7\n",
            "Current epoch is :  8\n",
            "Current epoch is :  9\n",
            "Current epoch is :  10\n",
            "Current epoch is :  11\n",
            "Current epoch is :  12\n",
            "Current epoch is :  13\n",
            "Current epoch is :  14\n",
            "Current epoch is :  15\n",
            "Current epoch is :  16\n",
            "Current epoch is :  17\n",
            "Current epoch is :  18\n",
            "Current epoch is :  19\n",
            "Current epoch is :  20\n",
            "Current epoch is :  21\n",
            "Current epoch is :  22\n",
            "Current epoch is :  23\n",
            "Current epoch is :  24\n",
            "Current epoch is :  25\n",
            "Current epoch is :  26\n",
            "Current epoch is :  27\n",
            "Current epoch is :  28\n",
            "Current epoch is :  29\n"
          ],
          "name": "stdout"
        }
      ]
    },
    {
      "cell_type": "code",
      "metadata": {
        "id": "Y1TXIdxs29Ep",
        "colab": {
          "base_uri": "https://localhost:8080/"
        },
        "outputId": "8dc4c087-898a-4d45-d6cf-da1dd767d2d2"
      },
      "source": [
        "total_loss, total_err = 0., 0.\n",
        "\n",
        "model.eval()\n",
        "\n",
        "for X, y in testload:\n",
        "    X, y = X.to(device), y.to(device)\n",
        "    \n",
        "    outputs = model(X.float())\n",
        "\n",
        "    total_err += (outputs.max(dim=1)[1] != y).sum().item()\n",
        "\n",
        "print(\"total test error is \", total_err / len(testload.dataset))"
      ],
      "execution_count": 13,
      "outputs": [
        {
          "output_type": "stream",
          "text": [
            "total test error is  0.0074\n"
          ],
          "name": "stdout"
        }
      ]
    },
    {
      "cell_type": "code",
      "metadata": {
        "id": "fOIcalNKauhr"
      },
      "source": [
        "model.eval()\n",
        "torch.save(model.state_dict(), \"TENET_DIGIT_MNIST_model_cnn_student_T_20_hybrid.pt\")\n"
      ],
      "execution_count": 14,
      "outputs": []
    },
    {
      "cell_type": "code",
      "metadata": {
        "id": "DcDSw2b05LFs"
      },
      "source": [
        "torch.save(model.state_dict(), \"/content/gdrive/MyDrive/TENET_DIGIT_MNIST_model_cnn_student_T_20_hybrid.pt\")"
      ],
      "execution_count": 15,
      "outputs": []
    }
  ]
}